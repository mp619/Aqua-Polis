{
  "nbformat": 4,
  "nbformat_minor": 0,
  "metadata": {
    "colab": {
      "name": "Aquapolis_multiplemodels.ipynb",
      "provenance": [],
      "collapsed_sections": []
    },
    "kernelspec": {
      "name": "python3",
      "display_name": "Python 3"
    },
    "language_info": {
      "name": "python"
    }
  },
  "cells": [
    {
      "cell_type": "code",
      "execution_count": 6,
      "metadata": {
        "colab": {
          "resources": {
            "http://localhost:8080/nbextensions/google.colab/files.js": {
              "data": "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",
              "ok": true,
              "headers": [
                [
                  "content-type",
                  "application/javascript"
                ]
              ],
              "status": 200,
              "status_text": ""
            }
          },
          "base_uri": "https://localhost:8080/",
          "height": 72
        },
        "id": "xePOfamJIJGT",
        "outputId": "b61fff71-507b-4d03-f114-efc3c1027989"
      },
      "outputs": [
        {
          "output_type": "display_data",
          "data": {
            "text/html": [
              "\n",
              "     <input type=\"file\" id=\"files-cdb1da8d-0a48-403b-9475-4db56e3cdb2b\" name=\"files[]\" multiple disabled\n",
              "        style=\"border:none\" />\n",
              "     <output id=\"result-cdb1da8d-0a48-403b-9475-4db56e3cdb2b\">\n",
              "      Upload widget is only available when the cell has been executed in the\n",
              "      current browser session. Please rerun this cell to enable.\n",
              "      </output>\n",
              "      <script src=\"/nbextensions/google.colab/files.js\"></script> "
            ],
            "text/plain": [
              "<IPython.core.display.HTML object>"
            ]
          },
          "metadata": {}
        },
        {
          "output_type": "stream",
          "name": "stdout",
          "text": [
            "Saving water_potability.csv to water_potability (1).csv\n"
          ]
        }
      ],
      "source": [
        "# ML model for AquaPolis \n",
        "#based on dataset with water parameters from sensors as input and the quality of the water as output (attributes, classification problem)\n",
        "\n",
        "#get dataset from local drive\n",
        "import pandas as pd\n",
        "import requests\n",
        "\n",
        "# url = 'https://github.com/mp619/Aqua-Polis/blob/master/models/water_potability.csv'\n",
        "# requests.get(url)\n",
        "# df1 = pd.read_csv(url)\n",
        "# # Dataset is now stored in a Pandas Dataframe\n",
        "\n",
        "from google.colab import files\n",
        "uploaded = files.upload()\n",
        "\n",
        "import io\n",
        "df2 = pd.read_csv(io.BytesIO(uploaded['water_potability.csv']))\n"
      ]
    },
    {
      "cell_type": "code",
      "source": [
        "#get in and outp\n",
        "print(df2)\n",
        "print(type(df2))\n",
        "\n",
        "#reformat data\n",
        "import sklearn\n",
        "from sklearn.impute import SimpleImputer\n",
        "cols = df2.columns\n",
        "imp_mean = SimpleImputer()\n",
        "data_trans = imp_mean.fit_transform(df2)\n",
        "data_trans = pd.DataFrame(data_trans, columns = cols)\n",
        "data_trans.head()\n",
        "data_shuffled = data_trans.sample(frac=1).reset_index(drop=True)\n",
        "\n",
        "print(data_shuffled)\n",
        "data = data_shuffled.iloc[:, [0,1,2,3,4,5,6,7,8]]\n",
        "labels = data_shuffled.iloc[:, [9]]\n",
        "\n",
        "\n",
        "print(data)\n",
        "print(labels)"
      ],
      "metadata": {
        "colab": {
          "base_uri": "https://localhost:8080/"
        },
        "id": "jnD0NF-2Mhe3",
        "outputId": "467713d9-94f0-40c2-b0ed-75724b5dbdfb"
      },
      "execution_count": 64,
      "outputs": [
        {
          "output_type": "stream",
          "name": "stdout",
          "text": [
            "            ph    Hardness  ...  Turbidity  Potability\n",
            "0          NaN  204.890455  ...   2.963135           0\n",
            "1     3.716080  129.422921  ...   4.500656           0\n",
            "2     8.099124  224.236259  ...   3.055934           0\n",
            "3     8.316766  214.373394  ...   4.628771           0\n",
            "4     9.092223  181.101509  ...   4.075075           0\n",
            "...        ...         ...  ...        ...         ...\n",
            "3271  4.668102  193.681735  ...   4.435821           1\n",
            "3272  7.808856  193.553212  ...   2.798243           1\n",
            "3273  9.419510  175.762646  ...   3.298875           1\n",
            "3274  5.126763  230.603758  ...   4.708658           1\n",
            "3275  7.874671  195.102299  ...   2.309149           1\n",
            "\n",
            "[3276 rows x 10 columns]\n",
            "<class 'pandas.core.frame.DataFrame'>\n",
            "             ph    Hardness  ...  Turbidity  Potability\n",
            "0      6.124672  179.579752  ...   3.631007         0.0\n",
            "1      5.853561  186.807751  ...   3.756874         0.0\n",
            "2      7.080795  190.267367  ...   3.796737         1.0\n",
            "3      7.397413  122.541040  ...   3.149158         0.0\n",
            "4      7.873272  182.646658  ...   3.306393         0.0\n",
            "...         ...         ...  ...        ...         ...\n",
            "3271   7.080795  188.743562  ...   2.723651         1.0\n",
            "3272   6.103731  184.328693  ...   3.383049         1.0\n",
            "3273   6.724639  223.175415  ...   2.921415         0.0\n",
            "3274  10.137932  242.005716  ...   3.872018         1.0\n",
            "3275   5.547576  182.644736  ...   4.448671         1.0\n",
            "\n",
            "[3276 rows x 10 columns]\n",
            "             ph    Hardness  ...  Trihalomethanes  Turbidity\n",
            "0      6.124672  179.579752  ...        69.017488   3.631007\n",
            "1      5.853561  186.807751  ...        65.040007   3.756874\n",
            "2      7.080795  190.267367  ...        68.944888   3.796737\n",
            "3      7.397413  122.541040  ...        66.396293   3.149158\n",
            "4      7.873272  182.646658  ...        65.499925   3.306393\n",
            "...         ...         ...  ...              ...        ...\n",
            "3271   7.080795  188.743562  ...        78.499418   2.723651\n",
            "3272   6.103731  184.328693  ...        59.000666   3.383049\n",
            "3273   6.724639  223.175415  ...        61.058796   2.921415\n",
            "3274  10.137932  242.005716  ...        62.365824   3.872018\n",
            "3275   5.547576  182.644736  ...        78.878604   4.448671\n",
            "\n",
            "[3276 rows x 9 columns]\n",
            "      Potability\n",
            "0            0.0\n",
            "1            0.0\n",
            "2            1.0\n",
            "3            0.0\n",
            "4            0.0\n",
            "...          ...\n",
            "3271         1.0\n",
            "3272         1.0\n",
            "3273         0.0\n",
            "3274         1.0\n",
            "3275         1.0\n",
            "\n",
            "[3276 rows x 1 columns]\n"
          ]
        }
      ]
    },
    {
      "cell_type": "code",
      "source": [
        "#data manipulation\n",
        "from dataclasses import dataclass\n",
        "import cv2\n",
        "import numpy as np\n",
        "import matplotlib.pyplot as plt\n",
        "from numpy.random import seed\n",
        "\n",
        "#resize??\n",
        "\n",
        "seed(1234)\n",
        "data = np.asarray(data).astype('float32')\n",
        "labels = np.asarray(labels).astype('float32')\n",
        "\n",
        "print(labels.shape)\n",
        "#split in training and validation set\n",
        "split_size_val = int(0.8*len(data))\n",
        "X_train, X_val = data[:split_size_val], data[split_size_val+1:]\n",
        "Y_train, Y_val = labels[:split_size_val], labels[split_size_val+1:]\n",
        "\n",
        "X_train = X_train.astype('float32')\n",
        "X_val = X_val.astype('float32')\n",
        "Y_train = Y_train.astype('float32')\n",
        "Y_val = Y_val.astype('float32')\n",
        "# # Normalize the data\n",
        "# X_train /= 255\n",
        "# X_val /= 255\n",
        "\n",
        "# Print shape of training and val images \n",
        "print('X_train image shape: {0}'.format(X_train.shape))\n",
        "print('X_val image shape: {0}'.format(X_val.shape))\n",
        "\n",
        "# Print shape of training and val labels \n",
        "print('Y_train labels shape: {0}'.format(Y_train.shape))\n",
        "print('Y_val labels shape: {0}'.format(Y_val.shape))"
      ],
      "metadata": {
        "colab": {
          "base_uri": "https://localhost:8080/"
        },
        "id": "zOFzxoZWIJuR",
        "outputId": "0a127f39-393e-49e4-a111-1ba7db0f0ca4"
      },
      "execution_count": 65,
      "outputs": [
        {
          "output_type": "stream",
          "name": "stdout",
          "text": [
            "(3276, 1)\n",
            "X_train image shape: (2620, 9)\n",
            "X_val image shape: (655, 9)\n",
            "Y_train labels shape: (2620, 1)\n",
            "Y_val labels shape: (655, 1)\n"
          ]
        }
      ]
    },
    {
      "cell_type": "code",
      "source": [
        "# model \n",
        "\n",
        "import tensorflow as tf\n",
        "tf.compat.v1.logging.set_verbosity(tf.compat.v1.logging.ERROR)\n",
        "from keras.models import Sequential\n",
        "from keras.layers import Dense, Activation\n",
        "from keras.utils import np_utils\n",
        "from keras.datasets import cifar10\n",
        "from tensorflow.keras.optimizers import RMSprop, Adam\n",
        "from keras.layers import Conv2D, MaxPooling2D, Flatten, BatchNormalization, Dropout\n",
        "from keras import regularizers\n",
        "\n",
        "pdrop = 0.2\n",
        "\n",
        "model = Sequential()\n",
        "model.add(Dense(10, kernel_initializer='random_normal',\n",
        "                bias_initializer='zeros', input_dim=9))\n",
        "model.add(Activation('sigmoid'))\n",
        "model.add(BatchNormalization())\n",
        "model.add(Dense(10))\n",
        "model.add(Activation('sigmoid'))\n",
        "model.add(Dropout(pdrop))\n",
        "model.add(Dense(1))\n",
        "model.add(Activation('softmax'))\n",
        "\n",
        "model.summary()\n",
        "\n",
        "# initiate RMSprop optimizer\n",
        "opt = Adam(lr=1e-4)\n",
        "\n",
        "model.compile(loss='categorical_crossentropy', optimizer=opt, metrics=['accuracy'])\n",
        "history = model.fit(X_train, Y_train, batch_size=32, epochs=20)\n",
        "score = model.evaluate(X_val, Y_val, verbose=0)\n",
        "print(score)\n",
        "print('Validation loss:', score[0])\n",
        "print('Validation accuracy:', score[1])"
      ],
      "metadata": {
        "colab": {
          "base_uri": "https://localhost:8080/"
        },
        "id": "CsLYC3z2QoDf",
        "outputId": "1380dcde-91b8-46b1-d933-a14a6e55c820"
      },
      "execution_count": 73,
      "outputs": [
        {
          "output_type": "stream",
          "name": "stdout",
          "text": [
            "Model: \"sequential_32\"\n",
            "_________________________________________________________________\n",
            " Layer (type)                Output Shape              Param #   \n",
            "=================================================================\n",
            " dense_81 (Dense)            (None, 10)                100       \n",
            "                                                                 \n",
            " activation_74 (Activation)  (None, 10)                0         \n",
            "                                                                 \n",
            " batch_normalization_5 (Batc  (None, 10)               40        \n",
            " hNormalization)                                                 \n",
            "                                                                 \n",
            " dense_82 (Dense)            (None, 10)                110       \n",
            "                                                                 \n",
            " activation_75 (Activation)  (None, 10)                0         \n",
            "                                                                 \n",
            " dropout_17 (Dropout)        (None, 10)                0         \n",
            "                                                                 \n",
            " dense_83 (Dense)            (None, 1)                 11        \n",
            "                                                                 \n",
            " activation_76 (Activation)  (None, 1)                 0         \n",
            "                                                                 \n",
            "=================================================================\n",
            "Total params: 261\n",
            "Trainable params: 241\n",
            "Non-trainable params: 20\n",
            "_________________________________________________________________\n",
            "Epoch 1/20\n"
          ]
        },
        {
          "output_type": "stream",
          "name": "stderr",
          "text": [
            "/usr/local/lib/python3.7/dist-packages/keras/optimizer_v2/adam.py:105: UserWarning: The `lr` argument is deprecated, use `learning_rate` instead.\n",
            "  super(Adam, self).__init__(name, **kwargs)\n"
          ]
        },
        {
          "output_type": "stream",
          "name": "stdout",
          "text": [
            "82/82 [==============================] - 1s 2ms/step - loss: 0.0000e+00 - accuracy: 0.3973\n",
            "Epoch 2/20\n",
            "82/82 [==============================] - 0s 2ms/step - loss: 0.0000e+00 - accuracy: 0.3973\n",
            "Epoch 3/20\n",
            "82/82 [==============================] - 0s 2ms/step - loss: 0.0000e+00 - accuracy: 0.3973\n",
            "Epoch 4/20\n",
            "82/82 [==============================] - 0s 2ms/step - loss: 0.0000e+00 - accuracy: 0.3973\n",
            "Epoch 5/20\n",
            "82/82 [==============================] - 0s 2ms/step - loss: 0.0000e+00 - accuracy: 0.3973\n",
            "Epoch 6/20\n",
            "82/82 [==============================] - 0s 2ms/step - loss: 0.0000e+00 - accuracy: 0.3973\n",
            "Epoch 7/20\n",
            "82/82 [==============================] - 0s 2ms/step - loss: 0.0000e+00 - accuracy: 0.3973\n",
            "Epoch 8/20\n",
            "82/82 [==============================] - 0s 2ms/step - loss: 0.0000e+00 - accuracy: 0.3973\n",
            "Epoch 9/20\n",
            "82/82 [==============================] - 0s 2ms/step - loss: 0.0000e+00 - accuracy: 0.3973\n",
            "Epoch 10/20\n",
            "82/82 [==============================] - 0s 2ms/step - loss: 0.0000e+00 - accuracy: 0.3973\n",
            "Epoch 11/20\n",
            "82/82 [==============================] - 0s 2ms/step - loss: 0.0000e+00 - accuracy: 0.3973\n",
            "Epoch 12/20\n",
            "82/82 [==============================] - 0s 2ms/step - loss: 0.0000e+00 - accuracy: 0.3973\n",
            "Epoch 13/20\n",
            "82/82 [==============================] - 0s 2ms/step - loss: 0.0000e+00 - accuracy: 0.3973\n",
            "Epoch 14/20\n",
            "82/82 [==============================] - 0s 2ms/step - loss: 0.0000e+00 - accuracy: 0.3973\n",
            "Epoch 15/20\n",
            "82/82 [==============================] - 0s 2ms/step - loss: 0.0000e+00 - accuracy: 0.3973\n",
            "Epoch 16/20\n",
            "82/82 [==============================] - 0s 2ms/step - loss: 0.0000e+00 - accuracy: 0.3973\n",
            "Epoch 17/20\n",
            "82/82 [==============================] - 0s 2ms/step - loss: 0.0000e+00 - accuracy: 0.3973\n",
            "Epoch 18/20\n",
            "82/82 [==============================] - 0s 2ms/step - loss: 0.0000e+00 - accuracy: 0.3973\n",
            "Epoch 19/20\n",
            "82/82 [==============================] - 0s 2ms/step - loss: 0.0000e+00 - accuracy: 0.3973\n",
            "Epoch 20/20\n",
            "82/82 [==============================] - 0s 2ms/step - loss: 0.0000e+00 - accuracy: 0.3973\n",
            "[0.0, 0.36183205246925354]\n",
            "Validation loss: 0.0\n",
            "Validation accuracy: 0.36183205246925354\n"
          ]
        }
      ]
    },
    {
      "cell_type": "code",
      "source": [
        "from sklearn.ensemble import AdaBoostClassifier\n",
        "from sklearn.datasets import make_classification\n",
        "clf = AdaBoostClassifier(n_estimators=100,  random_state=0)\n",
        "print(X_train)\n",
        "print(Y_train)\n",
        "clf.fit(X_train, Y_train)\n",
        "clf.predict(X_val)\n",
        "# mean accuracy \n",
        "clf.score(X_val,Y_val)\n",
        "\n",
        "#gridsearch form sk learn to chose best hyperparameters\n"
      ],
      "metadata": {
        "colab": {
          "base_uri": "https://localhost:8080/"
        },
        "id": "dks0uwSk2Tht",
        "outputId": "fb53bd22-f7ac-4dec-cfa3-7404863f1775"
      },
      "execution_count": 69,
      "outputs": [
        {
          "output_type": "stream",
          "name": "stdout",
          "text": [
            "[[6.1246724e+00 1.7957976e+02 2.7951613e+04 ... 1.3835116e+01\n",
            "  6.9017487e+01 3.6310067e+00]\n",
            " [5.8535604e+00 1.8680775e+02 1.9790857e+04 ... 1.9670702e+01\n",
            "  6.5040009e+01 3.7568738e+00]\n",
            " [7.0807943e+00 1.9026736e+02 1.5255115e+04 ... 1.3312723e+01\n",
            "  6.8944885e+01 3.7967374e+00]\n",
            " ...\n",
            " [5.5242968e+00 1.5714243e+02 2.6220174e+04 ... 1.6903181e+01\n",
            "  5.1106613e+01 4.0333910e+00]\n",
            " [5.1743460e+00 2.3432857e+02 1.1746607e+04 ... 1.3771680e+01\n",
            "  3.6183537e+01 3.6891451e+00]\n",
            " [6.5726562e+00 1.9264734e+02 1.4598952e+04 ... 1.7343805e+01\n",
            "  5.3085480e+01 2.8209271e+00]]\n",
            "[[0.]\n",
            " [0.]\n",
            " [1.]\n",
            " ...\n",
            " [0.]\n",
            " [0.]\n",
            " [1.]]\n"
          ]
        },
        {
          "output_type": "stream",
          "name": "stderr",
          "text": [
            "/usr/local/lib/python3.7/dist-packages/sklearn/utils/validation.py:993: DataConversionWarning: A column-vector y was passed when a 1d array was expected. Please change the shape of y to (n_samples, ), for example using ravel().\n",
            "  y = column_or_1d(y, warn=True)\n"
          ]
        },
        {
          "output_type": "execute_result",
          "data": {
            "text/plain": [
              "0.616793893129771"
            ]
          },
          "metadata": {},
          "execution_count": 69
        }
      ]
    }
  ]
}