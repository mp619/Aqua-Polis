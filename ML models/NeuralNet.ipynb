{
 "cells": [
  {
   "cell_type": "code",
   "execution_count": 20,
   "id": "72949fdf-f202-404b-81a9-3dfcb1e850bb",
   "metadata": {},
   "outputs": [],
   "source": [
    "import numpy as np\n",
    "import torch\n",
    "import pandas as pd\n",
    "import matplotlib.pyplot as plt\n",
    "import sklearn\n",
    "from sklearn.impute import SimpleImputer\n",
    "from sklearn.model_selection import train_test_split\n",
    "import tensorflow as tf"
   ]
  },
  {
   "cell_type": "markdown",
   "id": "fe36a3f7-9e71-4cb8-b855-5de3d9e5a0a6",
   "metadata": {},
   "source": [
    "## Loading and preprocessing dataset"
   ]
  },
  {
   "cell_type": "code",
   "execution_count": 23,
   "id": "373c2d08-6401-4ef4-867f-e24adee077b8",
   "metadata": {},
   "outputs": [
    {
     "data": {
      "text/html": [
       "<div>\n",
       "<style scoped>\n",
       "    .dataframe tbody tr th:only-of-type {\n",
       "        vertical-align: middle;\n",
       "    }\n",
       "\n",
       "    .dataframe tbody tr th {\n",
       "        vertical-align: top;\n",
       "    }\n",
       "\n",
       "    .dataframe thead th {\n",
       "        text-align: right;\n",
       "    }\n",
       "</style>\n",
       "<table border=\"1\" class=\"dataframe\">\n",
       "  <thead>\n",
       "    <tr style=\"text-align: right;\">\n",
       "      <th></th>\n",
       "      <th>ph</th>\n",
       "      <th>Hardness</th>\n",
       "      <th>Solids</th>\n",
       "      <th>Chloramines</th>\n",
       "      <th>Sulfate</th>\n",
       "      <th>Conductivity</th>\n",
       "      <th>Organic_carbon</th>\n",
       "      <th>Trihalomethanes</th>\n",
       "      <th>Turbidity</th>\n",
       "      <th>Potability</th>\n",
       "    </tr>\n",
       "  </thead>\n",
       "  <tbody>\n",
       "    <tr>\n",
       "      <th>0</th>\n",
       "      <td>NaN</td>\n",
       "      <td>204.890455</td>\n",
       "      <td>20791.318981</td>\n",
       "      <td>7.300212</td>\n",
       "      <td>368.516441</td>\n",
       "      <td>564.308654</td>\n",
       "      <td>10.379783</td>\n",
       "      <td>86.990970</td>\n",
       "      <td>2.963135</td>\n",
       "      <td>0</td>\n",
       "    </tr>\n",
       "    <tr>\n",
       "      <th>1</th>\n",
       "      <td>3.716080</td>\n",
       "      <td>129.422921</td>\n",
       "      <td>18630.057858</td>\n",
       "      <td>6.635246</td>\n",
       "      <td>NaN</td>\n",
       "      <td>592.885359</td>\n",
       "      <td>15.180013</td>\n",
       "      <td>56.329076</td>\n",
       "      <td>4.500656</td>\n",
       "      <td>0</td>\n",
       "    </tr>\n",
       "    <tr>\n",
       "      <th>2</th>\n",
       "      <td>8.099124</td>\n",
       "      <td>224.236259</td>\n",
       "      <td>19909.541732</td>\n",
       "      <td>9.275884</td>\n",
       "      <td>NaN</td>\n",
       "      <td>418.606213</td>\n",
       "      <td>16.868637</td>\n",
       "      <td>66.420093</td>\n",
       "      <td>3.055934</td>\n",
       "      <td>0</td>\n",
       "    </tr>\n",
       "    <tr>\n",
       "      <th>3</th>\n",
       "      <td>8.316766</td>\n",
       "      <td>214.373394</td>\n",
       "      <td>22018.417441</td>\n",
       "      <td>8.059332</td>\n",
       "      <td>356.886136</td>\n",
       "      <td>363.266516</td>\n",
       "      <td>18.436524</td>\n",
       "      <td>100.341674</td>\n",
       "      <td>4.628771</td>\n",
       "      <td>0</td>\n",
       "    </tr>\n",
       "    <tr>\n",
       "      <th>4</th>\n",
       "      <td>9.092223</td>\n",
       "      <td>181.101509</td>\n",
       "      <td>17978.986339</td>\n",
       "      <td>6.546600</td>\n",
       "      <td>310.135738</td>\n",
       "      <td>398.410813</td>\n",
       "      <td>11.558279</td>\n",
       "      <td>31.997993</td>\n",
       "      <td>4.075075</td>\n",
       "      <td>0</td>\n",
       "    </tr>\n",
       "  </tbody>\n",
       "</table>\n",
       "</div>"
      ],
      "text/plain": [
       "         ph    Hardness        Solids  Chloramines     Sulfate  Conductivity  \\\n",
       "0       NaN  204.890455  20791.318981     7.300212  368.516441    564.308654   \n",
       "1  3.716080  129.422921  18630.057858     6.635246         NaN    592.885359   \n",
       "2  8.099124  224.236259  19909.541732     9.275884         NaN    418.606213   \n",
       "3  8.316766  214.373394  22018.417441     8.059332  356.886136    363.266516   \n",
       "4  9.092223  181.101509  17978.986339     6.546600  310.135738    398.410813   \n",
       "\n",
       "   Organic_carbon  Trihalomethanes  Turbidity  Potability  \n",
       "0       10.379783        86.990970   2.963135           0  \n",
       "1       15.180013        56.329076   4.500656           0  \n",
       "2       16.868637        66.420093   3.055934           0  \n",
       "3       18.436524       100.341674   4.628771           0  \n",
       "4       11.558279        31.997993   4.075075           0  "
      ]
     },
     "execution_count": 23,
     "metadata": {},
     "output_type": "execute_result"
    }
   ],
   "source": [
    "# load and seperate data\n",
    "data = pd.read_csv(\"water_potability.csv\") \n",
    "cols = data.columns\n",
    "data.head()"
   ]
  },
  {
   "cell_type": "code",
   "execution_count": 24,
   "id": "b4503ca1-8c96-4828-addf-6fcdbf4b9450",
   "metadata": {},
   "outputs": [
    {
     "data": {
      "text/html": [
       "<div>\n",
       "<style scoped>\n",
       "    .dataframe tbody tr th:only-of-type {\n",
       "        vertical-align: middle;\n",
       "    }\n",
       "\n",
       "    .dataframe tbody tr th {\n",
       "        vertical-align: top;\n",
       "    }\n",
       "\n",
       "    .dataframe thead th {\n",
       "        text-align: right;\n",
       "    }\n",
       "</style>\n",
       "<table border=\"1\" class=\"dataframe\">\n",
       "  <thead>\n",
       "    <tr style=\"text-align: right;\">\n",
       "      <th></th>\n",
       "      <th>ph</th>\n",
       "      <th>Hardness</th>\n",
       "      <th>Solids</th>\n",
       "      <th>Chloramines</th>\n",
       "      <th>Sulfate</th>\n",
       "      <th>Conductivity</th>\n",
       "      <th>Organic_carbon</th>\n",
       "      <th>Trihalomethanes</th>\n",
       "      <th>Turbidity</th>\n",
       "    </tr>\n",
       "  </thead>\n",
       "  <tbody>\n",
       "    <tr>\n",
       "      <th>0</th>\n",
       "      <td>7.080795</td>\n",
       "      <td>204.890455</td>\n",
       "      <td>20791.318981</td>\n",
       "      <td>7.300212</td>\n",
       "      <td>368.516441</td>\n",
       "      <td>564.308654</td>\n",
       "      <td>10.379783</td>\n",
       "      <td>86.990970</td>\n",
       "      <td>2.963135</td>\n",
       "    </tr>\n",
       "    <tr>\n",
       "      <th>1</th>\n",
       "      <td>3.716080</td>\n",
       "      <td>129.422921</td>\n",
       "      <td>18630.057858</td>\n",
       "      <td>6.635246</td>\n",
       "      <td>333.775777</td>\n",
       "      <td>592.885359</td>\n",
       "      <td>15.180013</td>\n",
       "      <td>56.329076</td>\n",
       "      <td>4.500656</td>\n",
       "    </tr>\n",
       "    <tr>\n",
       "      <th>2</th>\n",
       "      <td>8.099124</td>\n",
       "      <td>224.236259</td>\n",
       "      <td>19909.541732</td>\n",
       "      <td>9.275884</td>\n",
       "      <td>333.775777</td>\n",
       "      <td>418.606213</td>\n",
       "      <td>16.868637</td>\n",
       "      <td>66.420093</td>\n",
       "      <td>3.055934</td>\n",
       "    </tr>\n",
       "    <tr>\n",
       "      <th>3</th>\n",
       "      <td>8.316766</td>\n",
       "      <td>214.373394</td>\n",
       "      <td>22018.417441</td>\n",
       "      <td>8.059332</td>\n",
       "      <td>356.886136</td>\n",
       "      <td>363.266516</td>\n",
       "      <td>18.436524</td>\n",
       "      <td>100.341674</td>\n",
       "      <td>4.628771</td>\n",
       "    </tr>\n",
       "    <tr>\n",
       "      <th>4</th>\n",
       "      <td>9.092223</td>\n",
       "      <td>181.101509</td>\n",
       "      <td>17978.986339</td>\n",
       "      <td>6.546600</td>\n",
       "      <td>310.135738</td>\n",
       "      <td>398.410813</td>\n",
       "      <td>11.558279</td>\n",
       "      <td>31.997993</td>\n",
       "      <td>4.075075</td>\n",
       "    </tr>\n",
       "  </tbody>\n",
       "</table>\n",
       "</div>"
      ],
      "text/plain": [
       "         ph    Hardness        Solids  Chloramines     Sulfate  Conductivity  \\\n",
       "0  7.080795  204.890455  20791.318981     7.300212  368.516441    564.308654   \n",
       "1  3.716080  129.422921  18630.057858     6.635246  333.775777    592.885359   \n",
       "2  8.099124  224.236259  19909.541732     9.275884  333.775777    418.606213   \n",
       "3  8.316766  214.373394  22018.417441     8.059332  356.886136    363.266516   \n",
       "4  9.092223  181.101509  17978.986339     6.546600  310.135738    398.410813   \n",
       "\n",
       "   Organic_carbon  Trihalomethanes  Turbidity  \n",
       "0       10.379783        86.990970   2.963135  \n",
       "1       15.180013        56.329076   4.500656  \n",
       "2       16.868637        66.420093   3.055934  \n",
       "3       18.436524       100.341674   4.628771  \n",
       "4       11.558279        31.997993   4.075075  "
      ]
     },
     "execution_count": 24,
     "metadata": {},
     "output_type": "execute_result"
    }
   ],
   "source": [
    "# fill missing values \n",
    "imp_mean = SimpleImputer()\n",
    "transformed = imp_mean.fit_transform(data)\n",
    "transformed = pd.DataFrame(transformed, columns = cols)\n",
    "labels = transformed.Potability\n",
    "selected_features = pd.concat([transformed.Solids, transformed.Turbidity], axis=1)\n",
    "all_features = transformed.iloc[:,:-1]\n",
    "transformed.iloc[:,:-1].head()"
   ]
  },
  {
   "cell_type": "markdown",
   "id": "44bb91e4-6893-46ef-afb9-970cb95856b1",
   "metadata": {},
   "source": [
    "# Building initial Neural Network architecture"
   ]
  },
  {
   "cell_type": "code",
   "execution_count": 25,
   "id": "a636d501-b8eb-40f9-8b65-ef7a99779333",
   "metadata": {},
   "outputs": [],
   "source": [
    "norm_layer = tf.keras.layers.Normalization()\n",
    "norm_layer.adapt(selected_features)"
   ]
  },
  {
   "cell_type": "code",
   "execution_count": 26,
   "id": "d0ecc793-4c8a-4a4d-8519-8378a6e02147",
   "metadata": {},
   "outputs": [
    {
     "data": {
      "text/plain": [
       "(3266, 2)"
      ]
     },
     "execution_count": 26,
     "metadata": {},
     "output_type": "execute_result"
    }
   ],
   "source": [
    "from sklearn.model_selection import StratifiedShuffleSplit, ShuffleSplit\n",
    "\n",
    "def genSSS(X, Y, folds=10, test_size=10):\n",
    "    sss = sklearn.model_selection.StratifiedShuffleSplit(n_splits=folds, test_size=test_size)\n",
    "\n",
    "    x_train_folds = []\n",
    "    x_test_folds = []\n",
    "    y_train_folds = []\n",
    "    y_test_folds = []\n",
    "    prev = { 'depth' : 0, 'accuracy' : 0, 'clf' : X }\n",
    "    \n",
    "    for train_index, test_index in sss.split(X, Y):\n",
    "        x_train_folds.append(np.array(X.iloc[train_index]))\n",
    "        y_train_folds.append(np.array(Y.iloc[train_index]))\n",
    "        x_test_folds.append(np.array(X.iloc[test_index]))\n",
    "        y_test_folds.append(np.array(Y.iloc[test_index]))\n",
    "        \n",
    "    return x_train_folds,y_train_folds, x_test_folds, y_test_folds\n",
    "\n",
    "\n",
    "x_train_folds,y_train_folds, x_test_folds, y_test_folds = genSSS(selected_features, labels)\n",
    "x_train_folds[1].shape"
   ]
  },
  {
   "cell_type": "code",
   "execution_count": 27,
   "id": "d48866aa-71d2-4770-9a02-f3f478aec25e",
   "metadata": {},
   "outputs": [],
   "source": [
    "from keras.models import Sequential\n",
    "from keras.layers import Dense\n",
    "from keras.wrappers.scikit_learn import KerasClassifier\n",
    "import keras\n",
    "\n",
    "def create_NN(activations: list, input_dims, hidd_dims: list):\n",
    "    assert(len(activations)==len(hidd_dims))\n",
    "\n",
    "    model = Sequential()\n",
    "    model.add(norm_layer) \n",
    "    model.add(Dense(input_dims,input_shape=(input_dims,), activation='sigmoid'))\n",
    "    \n",
    "    for act, h_d in zip(activations, hidd_dims):\n",
    "        print(act,h_d)\n",
    "        model.add(Dense(h_d, activation=act, kernel_initializer = tf.keras.initializers.GlorotNormal()))\n",
    "        \n",
    "    model.add(Dense(1, activation='tanh'))\n",
    "\n",
    "    model.compile(loss='binary_crossentropy', optimizer='adam', metrics=['accuracy'])\n",
    "    return model"
   ]
  },
  {
   "cell_type": "markdown",
   "id": "5b0a35fe-e4ef-4a11-8be6-4b2b1cd8e77b",
   "metadata": {},
   "source": [
    "## Instansiate model and train"
   ]
  },
  {
   "cell_type": "code",
   "execution_count": 28,
   "id": "5d089534-aa86-49d4-9957-52fe5ac97618",
   "metadata": {},
   "outputs": [
    {
     "name": "stdout",
     "output_type": "stream",
     "text": [
      "sigmoid 2\n",
      "tanh 4\n",
      "sigmoid 8\n",
      "sigmoid 4\n",
      "tanh 2\n",
      "Epoch 1/20\n",
      "52/52 [==============================] - 1s 14ms/step - loss: 0.8964 - accuracy: 0.6099 - val_loss: 0.7511 - val_accuracy: 0.6000\n",
      "Epoch 2/20\n",
      "52/52 [==============================] - 0s 1ms/step - loss: 0.7062 - accuracy: 0.6099 - val_loss: 0.6925 - val_accuracy: 0.6000\n",
      "Epoch 3/20\n",
      "52/52 [==============================] - 0s 1ms/step - loss: 0.6758 - accuracy: 0.6099 - val_loss: 0.6770 - val_accuracy: 0.6000\n",
      "Epoch 4/20\n",
      "52/52 [==============================] - 0s 1ms/step - loss: 0.6695 - accuracy: 0.6099 - val_loss: 0.6734 - val_accuracy: 0.6000\n",
      "Epoch 5/20\n",
      "52/52 [==============================] - 0s 1ms/step - loss: 0.6689 - accuracy: 0.6099 - val_loss: 0.6731 - val_accuracy: 0.6000\n",
      "Epoch 6/20\n",
      "52/52 [==============================] - 0s 1ms/step - loss: 0.6688 - accuracy: 0.6099 - val_loss: 0.6731 - val_accuracy: 0.6000\n",
      "Epoch 7/20\n",
      "52/52 [==============================] - 0s 1ms/step - loss: 0.6691 - accuracy: 0.6099 - val_loss: 0.6731 - val_accuracy: 0.6000\n",
      "Epoch 8/20\n",
      "52/52 [==============================] - 0s 1ms/step - loss: 0.6689 - accuracy: 0.6099 - val_loss: 0.6732 - val_accuracy: 0.6000\n",
      "Epoch 9/20\n",
      "52/52 [==============================] - 0s 1ms/step - loss: 0.6689 - accuracy: 0.6099 - val_loss: 0.6729 - val_accuracy: 0.6000\n",
      "Epoch 10/20\n",
      "52/52 [==============================] - 0s 1ms/step - loss: 0.6690 - accuracy: 0.6099 - val_loss: 0.6729 - val_accuracy: 0.6000\n",
      "Epoch 11/20\n",
      "52/52 [==============================] - 0s 1ms/step - loss: 0.6688 - accuracy: 0.6099 - val_loss: 0.6731 - val_accuracy: 0.6000\n",
      "Epoch 12/20\n",
      "52/52 [==============================] - 0s 1ms/step - loss: 0.6689 - accuracy: 0.6099 - val_loss: 0.6730 - val_accuracy: 0.6000\n",
      "Epoch 13/20\n",
      "52/52 [==============================] - 0s 1ms/step - loss: 0.6689 - accuracy: 0.6099 - val_loss: 0.6728 - val_accuracy: 0.6000\n",
      "Epoch 14/20\n",
      "52/52 [==============================] - 0s 1ms/step - loss: 0.6690 - accuracy: 0.6099 - val_loss: 0.6729 - val_accuracy: 0.6000\n",
      "Epoch 15/20\n",
      "52/52 [==============================] - 0s 1ms/step - loss: 0.6690 - accuracy: 0.6099 - val_loss: 0.6728 - val_accuracy: 0.6000\n",
      "Epoch 16/20\n",
      "52/52 [==============================] - 0s 1ms/step - loss: 0.6689 - accuracy: 0.6099 - val_loss: 0.6730 - val_accuracy: 0.6000\n",
      "Epoch 17/20\n",
      "52/52 [==============================] - 0s 1ms/step - loss: 0.6689 - accuracy: 0.6099 - val_loss: 0.6730 - val_accuracy: 0.6000\n",
      "Epoch 18/20\n",
      "52/52 [==============================] - 0s 1ms/step - loss: 0.6689 - accuracy: 0.6099 - val_loss: 0.6728 - val_accuracy: 0.6000\n",
      "Epoch 19/20\n",
      "52/52 [==============================] - 0s 1ms/step - loss: 0.6689 - accuracy: 0.6099 - val_loss: 0.6729 - val_accuracy: 0.6000\n",
      "Epoch 20/20\n",
      "52/52 [==============================] - 0s 1ms/step - loss: 0.6689 - accuracy: 0.6099 - val_loss: 0.6729 - val_accuracy: 0.6000\n"
     ]
    }
   ],
   "source": [
    "model = create_NN(['sigmoid','tanh','sigmoid','sigmoid','tanh']\n",
    "                  ,2\n",
    "                  ,[2,4,8,4,2])\n",
    "history = model.fit(\n",
    "    (x_train_folds[1]),\n",
    "    (y_train_folds[1]),\n",
    "    batch_size=64,\n",
    "    epochs=20,\n",
    "    validation_data=((x_test_folds[1]),\n",
    "                     (y_test_folds[1]))\n",
    ")"
   ]
  },
  {
   "cell_type": "code",
   "execution_count": 29,
   "id": "5456f166-3464-404d-90ac-079e38414181",
   "metadata": {},
   "outputs": [
    {
     "name": "stdout",
     "output_type": "stream",
     "text": [
      "Model: \"sequential\"\n",
      "_________________________________________________________________\n",
      " Layer (type)                Output Shape              Param #   \n",
      "=================================================================\n",
      " normalization (Normalizatio  (None, 2)                5         \n",
      " n)                                                              \n",
      "                                                                 \n",
      " dense (Dense)               (None, 2)                 6         \n",
      "                                                                 \n",
      " dense_1 (Dense)             (None, 2)                 6         \n",
      "                                                                 \n",
      " dense_2 (Dense)             (None, 4)                 12        \n",
      "                                                                 \n",
      " dense_3 (Dense)             (None, 8)                 40        \n",
      "                                                                 \n",
      " dense_4 (Dense)             (None, 4)                 36        \n",
      "                                                                 \n",
      " dense_5 (Dense)             (None, 2)                 10        \n",
      "                                                                 \n",
      " dense_6 (Dense)             (None, 1)                 3         \n",
      "                                                                 \n",
      "=================================================================\n",
      "Total params: 118\n",
      "Trainable params: 113\n",
      "Non-trainable params: 5\n",
      "_________________________________________________________________\n"
     ]
    }
   ],
   "source": [
    "from keras.utils.vis_utils import plot_model\n",
    "\n",
    "model.summary()"
   ]
  },
  {
   "cell_type": "markdown",
   "id": "bbed3884-0a58-4921-b6db-a190fd2c5802",
   "metadata": {},
   "source": [
    "## Test with actual sensor values"
   ]
  },
  {
   "cell_type": "code",
   "execution_count": 33,
   "id": "92df24ba-6773-4024-8230-8fed04ece528",
   "metadata": {},
   "outputs": [],
   "source": [
    "tds = 2.1\n",
    "tss = 492\n",
    "into_nn = np.array([tds, tss]).reshape(1,2)\n",
    "pred = model.predict(into_nn)"
   ]
  },
  {
   "cell_type": "code",
   "execution_count": 34,
   "id": "0d880a48-0428-400f-bac0-d92c3c9ce8c4",
   "metadata": {},
   "outputs": [
    {
     "data": {
      "text/plain": [
       "0.3874087"
      ]
     },
     "execution_count": 34,
     "metadata": {},
     "output_type": "execute_result"
    }
   ],
   "source": [
    "pred[0,0]"
   ]
  },
  {
   "cell_type": "markdown",
   "id": "b28e5aa3-3069-47c7-89b5-9456b0db7e85",
   "metadata": {},
   "source": [
    "## Trying to diagnose and combat issue"
   ]
  },
  {
   "cell_type": "code",
   "execution_count": 36,
   "id": "17e772fc-78eb-4443-9f83-820983cc10a8",
   "metadata": {},
   "outputs": [],
   "source": [
    "clean = (labels==1)\n",
    "clean_pred_vals = np.empty(np.sum(clean))\n",
    "tds_c = transformed[clean].Solids\n",
    "tss_c = transformed[clean].Turbidity\n",
    "into_nn_c = np.array([tds_c, tss_c]).reshape(1278,2)\n",
    "pred_c = model.predict(into_nn_c,batch_size=1278)"
   ]
  },
  {
   "cell_type": "code",
   "execution_count": 40,
   "id": "161c9c0d-878d-4496-ac7b-af74e96e5a84",
   "metadata": {},
   "outputs": [
    {
     "data": {
      "text/plain": [
       "0.38691813"
      ]
     },
     "execution_count": 40,
     "metadata": {},
     "output_type": "execute_result"
    }
   ],
   "source": [
    "# average value for clean water\n",
    "np.average(pred_c)"
   ]
  },
  {
   "cell_type": "code",
   "execution_count": 42,
   "id": "f733536f-a602-4a93-a7c6-cf377e09f6a9",
   "metadata": {},
   "outputs": [],
   "source": [
    "nclean = (labels==0)\n",
    "nclean_pred_vals = np.empty(np.sum(nclean))\n",
    "tds_n = transformed[nclean].Solids\n",
    "tss_n = transformed[nclean].Turbidity\n",
    "into_nn_n = np.array([tds_n, tss_n]).reshape(1998,2)\n",
    "pred_n = model.predict(into_nn_n,batch_size=1998)"
   ]
  },
  {
   "cell_type": "code",
   "execution_count": 43,
   "id": "0ced4212-853c-45b9-90e0-149b3bd93606",
   "metadata": {},
   "outputs": [
    {
     "data": {
      "text/plain": [
       "0.38691705"
      ]
     },
     "execution_count": 43,
     "metadata": {},
     "output_type": "execute_result"
    }
   ],
   "source": [
    "# average value for non-clean water\n",
    "np.average(pred_n)"
   ]
  }
 ],
 "metadata": {
  "kernelspec": {
   "display_name": "Python 3",
   "language": "python",
   "name": "python3"
  },
  "language_info": {
   "codemirror_mode": {
    "name": "ipython",
    "version": 3
   },
   "file_extension": ".py",
   "mimetype": "text/x-python",
   "name": "python",
   "nbconvert_exporter": "python",
   "pygments_lexer": "ipython3",
   "version": "3.8.8"
  }
 },
 "nbformat": 4,
 "nbformat_minor": 5
}
